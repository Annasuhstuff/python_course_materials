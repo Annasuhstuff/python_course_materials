{
 "cells": [
  {
   "cell_type": "markdown",
   "id": "4c792442",
   "metadata": {},
   "source": [
    "# Task #0\n",
    "\n",
    "Дан одномерный массив числовых значений, насчитывающий N элементов. Исключить из массива элементы, принадлежащие промежутку [1; 3].\n",
    "\n",
    "Input: [0, 1, 6, 10, 100, 300]\n",
    "\n",
    "Output: [0, 10, 100, 300]"
   ]
  },
  {
   "cell_type": "code",
   "execution_count": 1,
   "id": "a4a12a7c",
   "metadata": {},
   "outputs": [
    {
     "name": "stdout",
     "output_type": "stream",
     "text": [
      "[0, 6, 10, 100, 300]\n"
     ]
    }
   ],
   "source": [
    "my_list = [0, 1, 6, 10, 100, 300]\n",
    "n = 0\n",
    "\n",
    "while n < len(my_list):\n",
    "    if 1 <= my_list[n] <= 3:\n",
    "        my_list.remove(my_list[n])\n",
    "        n += 1\n",
    "    else:\n",
    "        n += 1\n",
    "        \n",
    "print(my_list)"
   ]
  },
  {
   "cell_type": "markdown",
   "id": "c736a148",
   "metadata": {},
   "source": [
    "# Task #1\n",
    "Дан одномерный массив числовых значений, насчитывающий N элементов. Подсчитать количество чисел, делящихся на 3 нацело, и среднее арифметическое чисел с чётными значениями. Поставить полученные величины на первое и последнее места в массиве (увеличив массив на 2 элемента).\n",
    "\n",
    "Input: [0, -3, 2, 4]\n",
    "\n",
    "Output: [1, 0, -3, 2, 4, 2]"
   ]
  },
  {
   "cell_type": "code",
   "execution_count": 5,
   "id": "a6f84a9c",
   "metadata": {},
   "outputs": [
    {
     "name": "stdout",
     "output_type": "stream",
     "text": [
      "[2, 0, -3, 2, 4, 2]\n"
     ]
    }
   ],
   "source": [
    "first_element = 0\n",
    "last_element = 0\n",
    "evens = 0\n",
    "index = 0\n",
    "my_list = [ 0, -3, 2, 4]\n",
    "while(index<len(my_list)):\n",
    "      element = my_list[index]\n",
    "      if element%2 == 0:\n",
    "          last_element += element\n",
    "          evens +=1\n",
    "      if element%3 == 0:\n",
    "          first_element +=1\n",
    "      index +=1\n",
    "\n",
    "last_element //= evens\n",
    "\n",
    "new_list = [first_element] + my_list + [last_element]\n",
    "print(new_list)"
   ]
  },
  {
   "cell_type": "markdown",
   "id": "de97566d",
   "metadata": {},
   "source": [
    "# Task #2\n",
    "# Дан одномерный массив числовых значений, насчитывающий N элементов. Добавить столько элементов, чтобы элементов с положительными и отрицательными значениями стало бы поровну.\n",
    "\n",
    "Input: [0, 8, -3, 2, 4 -1, 13, 24, 19]\n",
    "\n",
    "Output: [0, -1, 8, -3, 2, -1, 4, -1, 13, -1, 24, -1, 19]"
   ]
  },
  {
   "cell_type": "markdown",
   "id": "2c0b355e",
   "metadata": {},
   "source": [
    "# Task 3\n",
    "# How to remove stop words in a text?"
   ]
  },
  {
   "cell_type": "code",
   "execution_count": 9,
   "id": "f61fd829",
   "metadata": {},
   "outputs": [],
   "source": [
    "stop_words = [\"i\", \"me\", \"my\", \"myself\", \"we\", \"our\", \"ours\", \"ourselves\", \"you\", \"your\", \"yours\", \"yourself\", \"yourselves\", \"he\", \"him\", \"his\", \"himself\", \"she\", \"her\", \"hers\", \"herself\", \"it\", \"its\", \"itself\", \"they\", \"them\", \"their\", \"theirs\", \"themselves\", \"what\", \"which\", \"who\", \"whom\", \"this\", \"that\", \"these\", \"those\", \"am\", \"is\", \"are\", \"was\", \"were\", \"be\", \"been\", \"being\", \"have\", \"has\", \"had\", \"having\", \"do\", \"does\", \"did\", \"doing\", \"a\", \"an\", \"the\", \"and\", \"but\", \"if\", \"or\", \"because\", \"as\", \"until\", \"while\", \"of\", \"at\", \"by\", \"for\", \"with\", \"about\", \"against\", \"between\", \"into\", \"through\", \"during\", \"before\", \"after\", \"above\", \"below\", \"to\", \"from\", \"up\", \"down\", \"in\", \"out\", \"on\", \"off\", \"over\", \"under\", \"again\", \"further\", \"then\", \"once\", \"here\", \"there\", \"when\", \"where\", \"why\", \"how\", \"all\", \"any\", \"both\", \"each\", \"few\", \"more\", \"most\", \"other\", \"some\", \"such\", \"no\", \"nor\", \"not\", \"only\", \"own\", \"same\", \"so\", \"than\", \"too\", \"very\", \"s\", \"t\", \"can\", \"will\", \"just\", \"don\", \"should\", \"now\"]\n",
    "text = \"\"\"the outbreak of coronavirus disease 2019 ( COVID - 19 ) has created a global health crisis that has had a deep impact on the way we perceive our world and our everyday lives . Not only the rate of contagion and patterns of transmission threatens our sense of agency , but the safety measures put in place to contain the spread of the virus also require social distancing by refraining from doing what is inherently human , which is to find solace in the company of others . Within this context of physical threat , social and physical distancing , as well as public alarm , what has been ( and can be ) the role of the different mass media channels in our lives on individual , social and societal levels ? Mass media have long been recognized as powerful forces shaping how we experience the world and ourselves . This recognition is accompanied by a growing volume of research , that closely follows the footsteps of technological transformations ( e . g . radio , movies , television , the internet , mobiles ) and the zeitgeist ( e . g . cold war , 9 / 11 , climate change ) in an attempt to map mass media major impacts on how we perceive ourselves , both as individuals and citizens . Are media ( broadcast and digital ) still able to convey a sense of unity reaching large audiences , or are messages lost in the noisy crowd of mass self - communication ?\"\"\"\n"
   ]
  },
  {
   "cell_type": "code",
   "execution_count": 10,
   "id": "82cf9aea",
   "metadata": {},
   "outputs": [
    {
     "data": {
      "text/plain": [
       "'outbreak coronavirus disease 2019 ( COVID - 19 ) created global health crisis deep impact way perceive world everyday lives . Not rate contagion patterns transmission threatens sense agency , safety measures put place contain spread virus also require social distancing refraining inherently human , find solace company others . Within context physical threat , social physical distancing , well public alarm , ( ) role different mass media channels lives individual , social societal levels ? Mass media long recognized powerful forces shaping experience world . This recognition accompanied growing volume research , closely follows footsteps technological transformations ( e . g . radio , movies , television , internet , mobiles ) zeitgeist ( e . g . cold war , 9 / 11 , climate change ) attempt map mass media major impacts perceive , individuals citizens . Are media ( broadcast digital ) still able convey sense unity reaching large audiences , messages lost noisy crowd mass self - communication ?'"
      ]
     },
     "execution_count": 10,
     "metadata": {},
     "output_type": "execute_result"
    }
   ],
   "source": [
    "tokens = text.split(\" \")\n",
    "index = 0\n",
    "filtered_tokens = []\n",
    "while index < len(tokens):\n",
    "  current_token = tokens[index]\n",
    "  if current_token not in stop_words:\n",
    "    filtered_tokens.append(current_token)\n",
    "  index += 1\n",
    "\" \".join(filtered_tokens)"
   ]
  },
  {
   "cell_type": "markdown",
   "id": "f03183b8",
   "metadata": {},
   "source": [
    "# Task 4\n",
    "# How to extract usernames from emails ?"
   ]
  },
  {
   "cell_type": "code",
   "execution_count": 11,
   "id": "c53f99a3",
   "metadata": {},
   "outputs": [],
   "source": [
    "text = \"The new registrations are potter709@gmail.com , elixir101@gmail.com . If you find any disruptions , kindly contact granger111@gamil.com or severus77@gamil.com \"\n"
   ]
  },
  {
   "cell_type": "code",
   "execution_count": 12,
   "id": "b299ea89",
   "metadata": {},
   "outputs": [
    {
     "name": "stdout",
     "output_type": "stream",
     "text": [
      "['potter709', 'elixir101', 'granger111', 'severus77']\n"
     ]
    }
   ],
   "source": [
    "text = \"The new registrations are potter709@gmail.com , elixir101@gmail.com . If you find any disruptions , kindly contact granger111@gamil.com or severus77@gamil.com \"\n",
    "tokens = text.split()\n",
    "index = 0\n",
    "emails = []\n",
    "while index<len(tokens):\n",
    "    start_position = tokens[index].find('@')\n",
    "    current_token = tokens[index]\n",
    "    if start_position >0:\n",
    "        parts = current_token.split('@')\n",
    "        emails.append(parts[0])\n",
    "    index +=1\n",
    "print(emails)"
   ]
  },
  {
   "cell_type": "markdown",
   "id": "8c540ccb",
   "metadata": {},
   "source": [
    "# Task #5.0\n",
    "Write a program to print the following number pattern using a loop.\n",
    "\n",
    "1 \n",
    "\n",
    "1 2 \n",
    "\n",
    "1 2 3 \n",
    "\n",
    "1 2 3 4 \n",
    "\n",
    "1 2 3 4 5"
   ]
  },
  {
   "cell_type": "code",
   "execution_count": 13,
   "id": "6c072ef0",
   "metadata": {},
   "outputs": [
    {
     "name": "stdout",
     "output_type": "stream",
     "text": [
      "1\n",
      "1 2\n",
      "1 2 3\n",
      "1 2 3 4\n",
      "1 2 3 4 5\n"
     ]
    }
   ],
   "source": [
    "n = 5\n",
    "for string_index in range (1, n + 1):\n",
    "  print(*list(range(1, string_index + 1)))"
   ]
  },
  {
   "cell_type": "markdown",
   "id": "8277ba5e",
   "metadata": {},
   "source": [
    "# Task #5.1\n",
    "Write a program to use for loop to print the following reverse number pattern"
   ]
  },
  {
   "cell_type": "code",
   "execution_count": 14,
   "id": "7aeeb3ad",
   "metadata": {},
   "outputs": [
    {
     "name": "stdout",
     "output_type": "stream",
     "text": [
      "5 4 3 2 1  \n",
      "4 3 2 1  \n",
      "3 2 1  \n",
      "2 1  \n",
      "1  \n",
      " \n"
     ]
    }
   ],
   "source": [
    "rows = 5\n",
    "for i in range(0, rows + 1):\n",
    "    for j in range(rows - i, 0, -1):\n",
    "        print(j, end=' ')\n",
    "    print(' ')"
   ]
  },
  {
   "cell_type": "markdown",
   "id": "7eedea0d",
   "metadata": {},
   "source": [
    "# Task #6\n",
    "Can you you create a list from 1300 to 700 with descending steps of 100? Is your stop value included in the list?"
   ]
  },
  {
   "cell_type": "code",
   "execution_count": 15,
   "id": "027b0322",
   "metadata": {},
   "outputs": [
    {
     "name": "stdout",
     "output_type": "stream",
     "text": [
      "[1300, 1200, 1100, 1000, 900, 800]\n"
     ]
    }
   ],
   "source": [
    "rangee = range(1300, 700, -100)\n",
    "print(list(rangee))"
   ]
  },
  {
   "cell_type": "markdown",
   "id": "b61bd213",
   "metadata": {},
   "source": [
    "# Task #7\n",
    "Write a Python program to find the elements in a given set that are not in another set."
   ]
  },
  {
   "cell_type": "code",
   "execution_count": 16,
   "id": "7ee7e553",
   "metadata": {},
   "outputs": [],
   "source": [
    "def unique_elem (a, b):\n",
    "  c = a.intersection(b)\n",
    "  return a - c"
   ]
  },
  {
   "cell_type": "code",
   "execution_count": 17,
   "id": "0b788ef0",
   "metadata": {},
   "outputs": [
    {
     "data": {
      "text/plain": [
       "{1, 5}"
      ]
     },
     "execution_count": 17,
     "metadata": {},
     "output_type": "execute_result"
    }
   ],
   "source": [
    "unique_elem ({1, 3, 5}, {3, 7, 9})\n"
   ]
  },
  {
   "cell_type": "markdown",
   "id": "00c7d5aa",
   "metadata": {},
   "source": [
    "# Task #8\n",
    "Write a Python program to remove the intersection of a 2nd set from the 1st set."
   ]
  },
  {
   "cell_type": "markdown",
   "id": "c689864e",
   "metadata": {},
   "source": [
    "# Task #9\n",
    "\n",
    "Access the value of key ‘history’ from the below"
   ]
  },
  {
   "cell_type": "markdown",
   "id": "e911ca6b",
   "metadata": {},
   "source": [
    "# Home tasks\n",
    "\n",
    "\n",
    "# Task #1\n",
    "Write a program to use the loop to find the factorial of a given number.\n",
    "\n",
    "The factorial (symbol: !) means to multiply all whole numbers from the chosen number down to 1.\n",
    "\n",
    "For example: calculate the factorial of 5\n",
    "\n",
    "5! = 5 × 4 × 3 × 2 × 1 = 120"
   ]
  },
  {
   "cell_type": "code",
   "execution_count": 21,
   "id": "b2e36457",
   "metadata": {},
   "outputs": [
    {
     "name": "stdout",
     "output_type": "stream",
     "text": [
      "120\n"
     ]
    }
   ],
   "source": [
    "n = 5 #given number\n",
    "fact = 1\n",
    "for i in range (1, n + 1):\n",
    "  fact *= i\n",
    "print(fact)"
   ]
  },
  {
   "cell_type": "markdown",
   "id": "75e0d436",
   "metadata": {},
   "source": [
    "# Task #2\n",
    "Write a program to calculate the sum of series up to n term. For example, if n = 5 the series will become 2 + 22 + 222 + 2222 + 22222 = 24690"
   ]
  },
  {
   "cell_type": "code",
   "execution_count": 22,
   "id": "694ae4b9",
   "metadata": {},
   "outputs": [
    {
     "name": "stdout",
     "output_type": "stream",
     "text": [
      "24690\n"
     ]
    }
   ],
   "source": [
    "term_numbers = 5\n",
    "summ = 0\n",
    "\n",
    "for i in range (1, term_numbers + 1):\n",
    "    summ += int('2' * i)\n",
    "print(summ)"
   ]
  }
 ],
 "metadata": {
  "kernelspec": {
   "display_name": "Python 3",
   "language": "python",
   "name": "python3"
  },
  "language_info": {
   "codemirror_mode": {
    "name": "ipython",
    "version": 3
   },
   "file_extension": ".py",
   "mimetype": "text/x-python",
   "name": "python",
   "nbconvert_exporter": "python",
   "pygments_lexer": "ipython3",
   "version": "3.8.8"
  }
 },
 "nbformat": 4,
 "nbformat_minor": 5
}
