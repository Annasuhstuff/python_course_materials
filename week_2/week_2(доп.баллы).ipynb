{
 "cells": [
  {
   "cell_type": "markdown",
   "id": "056746ed",
   "metadata": {},
   "source": [
    "# Task 1\n",
    "#Вася в Италии\n",
    "Вася уехал учиться по обмену на один семестр в Италию. Единственный магазин в городе открыт с 6 до 8 утра и с 16 до 17 вечера (включительно). Вася не мог попасть в магазин уже несколько дней и страдает от голода. Он может прийти в магазин в X часов. Если магазин открыт в X часов, то выведите True, а если закрыт - выведите False.\n",
    "\n",
    "В единственной строке входных данных вводится целое число X, число находится в пределах от 0 до 23\n",
    "\n",
    "Формат ввода\n",
    "\n",
    "Целое число X, число находится в пределах от 0 до 23\n",
    "\n",
    "Формат вывода\n",
    "\n",
    "True или False\n",
    "\n",
    "Примеры\n",
    "\n",
    "Тест 1\n",
    "\n",
    "Входные данные:\n",
    "    \n",
    "16\n",
    "\n",
    "Вывод программы:\n",
    "    \n",
    "True"
   ]
  },
  {
   "cell_type": "code",
   "execution_count": 1,
   "id": "30eb91d6",
   "metadata": {},
   "outputs": [
    {
     "name": "stdout",
     "output_type": "stream",
     "text": [
      "16\n",
      "True\n"
     ]
    }
   ],
   "source": [
    "x = int(input())\n",
    "print ((6<=x<=8) or (16<=x<=17))"
   ]
  },
  {
   "cell_type": "markdown",
   "id": "b46c4b68",
   "metadata": {},
   "source": [
    "# Task 2\n",
    "# Дробная часть\n",
    "\n",
    "Дано вещественное число. Выведите его дробную часть.\n",
    "\n",
    "Формат ввода\n",
    "\n",
    "Вещественное число\n",
    "\n",
    "Формат вывода\n",
    "\n",
    "Вещественное число (ответ на задачу)\n",
    "\n",
    "Примеры\n",
    "\n",
    "Тест 1\n",
    "\n",
    "Входные данные:\n",
    "    \n",
    "4.0\n",
    "\n",
    "Вывод программы:\n",
    "    \n",
    "0.0"
   ]
  },
  {
   "cell_type": "code",
   "execution_count": 2,
   "id": "5cda1743",
   "metadata": {},
   "outputs": [
    {
     "name": "stdout",
     "output_type": "stream",
     "text": [
      "4.0\n",
      "0.0\n"
     ]
    }
   ],
   "source": [
    "x = float(input())\n",
    "y = x - int(x)\n",
    "print (y)"
   ]
  },
  {
   "cell_type": "markdown",
   "id": "8bf568e6",
   "metadata": {},
   "source": [
    "# Task 3\n",
    "# Pig Latin\n",
    "\n",
    "Pig Latin - вымышленный язык, который в конец каждого слова подставляет 'yay' (на самом деле оригинальные условия задачи несколько хитрее, но мы будем к ней возвращаться по ходу курса.\n",
    "\n",
    "Формат ввода\n",
    "Пользователь вводит слова.\n",
    "\n",
    "Формат вывода\n",
    "\n",
    "Слово на Pig Latin.\n",
    "\n",
    "Примеры\n",
    "Тест 1\n",
    "Ввод:\n",
    "apple\n",
    "\n",
    "Вывод:\n",
    "appleyay"
   ]
  },
  {
   "cell_type": "code",
   "execution_count": 3,
   "id": "961ddfcf",
   "metadata": {},
   "outputs": [
    {
     "name": "stdout",
     "output_type": "stream",
     "text": [
      "apple\n",
      "appleyay\n"
     ]
    }
   ],
   "source": [
    "x = input ()\n",
    "y = 'yay'\n",
    "print (x + y)"
   ]
  },
  {
   "cell_type": "markdown",
   "id": "5b20088c",
   "metadata": {},
   "source": [
    "# Task 4\n",
    "# x потвторенное x раз в квадрате\n",
    "1) Вводится целое число X.\n",
    "\n",
    "2) \n",
    "\n",
    "3) Напечатайте получившееся.\n",
    "\n",
    "Формат ввода\n",
    "\n",
    "Целое число\n",
    "\n",
    "Формат вывод\n",
    "\n",
    "Ответ на задачу\n",
    "\n",
    "Примеры\n",
    "\n",
    "Тест 1\n",
    "\n",
    "Ввод:\n",
    "\n",
    "2\n",
    "\n",
    "Вывод:\n",
    "\n",
    "484"
   ]
  },
  {
   "cell_type": "code",
   "execution_count": null,
   "id": "bf06ccf4",
   "metadata": {},
   "outputs": [],
   "source": [
    "x = int(input ())\n",
    "y = (x * x) ** 2\n",
    "print (y)"
   ]
  },
  {
   "cell_type": "markdown",
   "id": "65c56bb8",
   "metadata": {},
   "source": [
    "# Task 5\n",
    "# Хитрости умножения\n",
    "Для умножения двузначного числа на 11 есть интересная хитрость: результат произведения можно получить если между первой и второй цифрой исходного числа вписать сумму этих цифр. Например, 15 11 = 1 1+5 5 = 165 или 34 11 = 3 3+4 4 = 374. Реализуйте программу, которая умножала бы двузначные числа на 11, используя эту хитрость. Пользоваться оператором умножения нельзя.\n",
    "\n",
    "Формат ввода:\n",
    "    \n",
    "Вводится двузначное число.\n",
    "\n",
    "Формат вывода:\n",
    "    \n",
    "Программа должна вывести ответ на задачу.\n",
    "\n",
    "Тест 1\n",
    "\n",
    "Пример ввода:\n",
    "    \n",
    "15\n",
    "\n",
    "Вывод:\n",
    "    \n",
    "165\n",
    "\n",
    "Тест 2\n",
    "\n",
    "Пример ввода:\n",
    "    \n",
    "66\n",
    "\n",
    "Вывод:\n",
    "    \n",
    "726"
   ]
  },
  {
   "cell_type": "code",
   "execution_count": 11,
   "id": "072a2b26",
   "metadata": {},
   "outputs": [
    {
     "name": "stdout",
     "output_type": "stream",
     "text": [
      "Введите двузначное число: 15\n",
      "165\n"
     ]
    }
   ],
   "source": [
    "x = int(input(\"Введите двузначное число: \"))\n",
    "print(100*(x//10)+10*(x//10+x%10)+(x%10))"
   ]
  },
  {
   "cell_type": "markdown",
   "id": "19f1498e",
   "metadata": {},
   "source": [
    "# Home tasks\n",
    "# Task #1\n",
    "\n",
    "Create a program that asks the user to enter their name and their age. Print out a message addressed to them that tells them the year that they will turn 100 years old.\n",
    "\n",
    "Output:\n",
    "\n",
    "Your name: Sem\n",
    "    \n",
    "How old are you: 25\n",
    "    \n",
    "Sem will be 100 years old in the year 2096\n"
   ]
  },
  {
   "cell_type": "code",
   "execution_count": 14,
   "id": "29a97e15",
   "metadata": {},
   "outputs": [
    {
     "name": "stdout",
     "output_type": "stream",
     "text": [
      "Your name: Anna\n",
      "How old are you: 22\n",
      "Anna will be 100 years old in the year 2099\n"
     ]
    }
   ],
   "source": [
    "name = input(\"Your name: \")\n",
    "age = int(input(\"How old are you: \"))\n",
    "print(name, \"will be 100 years old in the year\", 2021 - age + 100)"
   ]
  }
 ],
 "metadata": {
  "kernelspec": {
   "display_name": "Python 3",
   "language": "python",
   "name": "python3"
  },
  "language_info": {
   "codemirror_mode": {
    "name": "ipython",
    "version": 3
   },
   "file_extension": ".py",
   "mimetype": "text/x-python",
   "name": "python",
   "nbconvert_exporter": "python",
   "pygments_lexer": "ipython3",
   "version": "3.8.8"
  }
 },
 "nbformat": 4,
 "nbformat_minor": 5
}
