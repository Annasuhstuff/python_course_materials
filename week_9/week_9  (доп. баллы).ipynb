{
 "cells": [
  {
   "cell_type": "markdown",
   "id": "237192ed",
   "metadata": {},
   "source": [
    "# task 1\n",
    "# Let’s practice our comprehensions. \n",
    "\n",
    "\n",
    "Create a list of only odd numbers between 0 and 100 using a list comprehension. Then, use a comprehension to create a dictionary where the keys are the even numbers from your list, and the values are random integers between 0 and 100 (hint: try random.randint(min, max)). Finally, use a comprehension to create a set of every unique value from the above dictionary."
   ]
  },
  {
   "cell_type": "code",
   "execution_count": 1,
   "id": "8cbd9388",
   "metadata": {},
   "outputs": [],
   "source": [
    "import random"
   ]
  },
  {
   "cell_type": "code",
   "execution_count": 2,
   "id": "ba46537d",
   "metadata": {},
   "outputs": [],
   "source": [
    "odd_numbers = [num for num in range (0, 100) if num % 2 == 0]\n",
    "\n",
    "my_dict = {num:random.randint(0, 100) for num in odd_numbers}"
   ]
  },
  {
   "cell_type": "code",
   "execution_count": 3,
   "id": "e6d1238d",
   "metadata": {},
   "outputs": [
    {
     "data": {
      "text/plain": [
       "{0: 100,\n",
       " 2: 52,\n",
       " 4: 58,\n",
       " 6: 7,\n",
       " 8: 19,\n",
       " 10: 95,\n",
       " 12: 76,\n",
       " 14: 37,\n",
       " 16: 27,\n",
       " 18: 42,\n",
       " 20: 3,\n",
       " 22: 89,\n",
       " 24: 51,\n",
       " 26: 94,\n",
       " 28: 46,\n",
       " 30: 25,\n",
       " 32: 66,\n",
       " 34: 39,\n",
       " 36: 49,\n",
       " 38: 37,\n",
       " 40: 7,\n",
       " 42: 11,\n",
       " 44: 65,\n",
       " 46: 12,\n",
       " 48: 75,\n",
       " 50: 20,\n",
       " 52: 16,\n",
       " 54: 1,\n",
       " 56: 18,\n",
       " 58: 6,\n",
       " 60: 48,\n",
       " 62: 97,\n",
       " 64: 70,\n",
       " 66: 42,\n",
       " 68: 78,\n",
       " 70: 15,\n",
       " 72: 24,\n",
       " 74: 39,\n",
       " 76: 28,\n",
       " 78: 75,\n",
       " 80: 14,\n",
       " 82: 95,\n",
       " 84: 98,\n",
       " 86: 37,\n",
       " 88: 46,\n",
       " 90: 82,\n",
       " 92: 92,\n",
       " 94: 88,\n",
       " 96: 23,\n",
       " 98: 83}"
      ]
     },
     "execution_count": 3,
     "metadata": {},
     "output_type": "execute_result"
    }
   ],
   "source": [
    "my_dict"
   ]
  },
  {
   "cell_type": "code",
   "execution_count": 4,
   "id": "99ba2ba8",
   "metadata": {},
   "outputs": [],
   "source": [
    "set_values = {num for num in my_dict.values()}\n"
   ]
  },
  {
   "cell_type": "code",
   "execution_count": 5,
   "id": "db37dd32",
   "metadata": {},
   "outputs": [
    {
     "data": {
      "text/plain": [
       "{1,\n",
       " 3,\n",
       " 6,\n",
       " 7,\n",
       " 11,\n",
       " 12,\n",
       " 14,\n",
       " 15,\n",
       " 16,\n",
       " 18,\n",
       " 19,\n",
       " 20,\n",
       " 23,\n",
       " 24,\n",
       " 25,\n",
       " 27,\n",
       " 28,\n",
       " 37,\n",
       " 39,\n",
       " 42,\n",
       " 46,\n",
       " 48,\n",
       " 49,\n",
       " 51,\n",
       " 52,\n",
       " 58,\n",
       " 65,\n",
       " 66,\n",
       " 70,\n",
       " 75,\n",
       " 76,\n",
       " 78,\n",
       " 82,\n",
       " 83,\n",
       " 88,\n",
       " 89,\n",
       " 92,\n",
       " 94,\n",
       " 95,\n",
       " 97,\n",
       " 98,\n",
       " 100}"
      ]
     },
     "execution_count": 5,
     "metadata": {},
     "output_type": "execute_result"
    }
   ],
   "source": [
    "set_values"
   ]
  },
  {
   "cell_type": "markdown",
   "id": "36280dda",
   "metadata": {},
   "source": [
    "# Task 2\n",
    "Make a list of all the names you can think of, called “names”. Make a second list of numbers, called “scores”, using a list comprehension and random.randint(min, max) as before. Use the first list in your comprehension to make it the same length. Then, use zip() to output a simple scoreboard of one score per name."
   ]
  },
  {
   "cell_type": "code",
   "execution_count": 7,
   "id": "caee2c42",
   "metadata": {},
   "outputs": [
    {
     "data": {
      "text/plain": [
       "[87, 30, 14, 42]"
      ]
     },
     "execution_count": 7,
     "metadata": {},
     "output_type": "execute_result"
    }
   ],
   "source": [
    "names = [\"Nina\", \"Max\", \"Floyd\", \"Lloyd\"]\n",
    "scores = [random.randint(0, 100) for num in range(0, 4)]\n",
    "scores"
   ]
  },
  {
   "cell_type": "code",
   "execution_count": 8,
   "id": "6363faa3",
   "metadata": {},
   "outputs": [
    {
     "name": "stdout",
     "output_type": "stream",
     "text": [
      "{'Nina': 87, 'Max': 30, 'Floyd': 14, 'Lloyd': 42}\n"
     ]
    }
   ],
   "source": [
    "score_dict = dict(zip(names, scores))\n",
    "print(score_dict)"
   ]
  }
 ],
 "metadata": {
  "kernelspec": {
   "display_name": "Python 3",
   "language": "python",
   "name": "python3"
  },
  "language_info": {
   "codemirror_mode": {
    "name": "ipython",
    "version": 3
   },
   "file_extension": ".py",
   "mimetype": "text/x-python",
   "name": "python",
   "nbconvert_exporter": "python",
   "pygments_lexer": "ipython3",
   "version": "3.8.8"
  }
 },
 "nbformat": 4,
 "nbformat_minor": 5
}
