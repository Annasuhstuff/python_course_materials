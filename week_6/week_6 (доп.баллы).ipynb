{
 "cells": [
  {
   "cell_type": "markdown",
   "id": "01b8fd9a",
   "metadata": {},
   "source": [
    "# Task 1:\n",
    "Напишите функцию для вычисления факториала данного числа Ввод: 3\n",
    "\n",
    "Вывод: 6"
   ]
  },
  {
   "cell_type": "code",
   "execution_count": 2,
   "id": "5a87ec14",
   "metadata": {},
   "outputs": [
    {
     "data": {
      "text/plain": [
       "6"
      ]
     },
     "execution_count": 2,
     "metadata": {},
     "output_type": "execute_result"
    }
   ],
   "source": [
    "def factorial (n):\n",
    "  fact = 1\n",
    "  for i in range (1, n + 1):\n",
    "    fact *= i\n",
    "  return fact\n",
    "factorial(3)"
   ]
  },
  {
   "cell_type": "markdown",
   "id": "937f1f4a",
   "metadata": {},
   "source": [
    "# Task #1.1\n",
    "вычислять N-ое число Фибоначчи (они как раз задаются рекурсивно)"
   ]
  },
  {
   "cell_type": "code",
   "execution_count": 4,
   "id": "1e23b2c8",
   "metadata": {},
   "outputs": [
    {
     "data": {
      "text/plain": [
       "832040"
      ]
     },
     "execution_count": 4,
     "metadata": {},
     "output_type": "execute_result"
    }
   ],
   "source": [
    "def fibonacci(n):\n",
    "  if n == 0:\n",
    "    return 0\n",
    "  elif n == 1:\n",
    "    return 1\n",
    "  else:\n",
    "    return fibonacci(n-1) + fibonacci(n-2)\n",
    "fibonacci(30)"
   ]
  },
  {
   "cell_type": "markdown",
   "id": "eab16285",
   "metadata": {},
   "source": [
    "# Task #2"
   ]
  },
  {
   "cell_type": "markdown",
   "id": "69592df6",
   "metadata": {},
   "source": [
    "Рекурсивно посчитать сумму чисел от 1 до N\n",
    "\n",
    "Вход: N\n",
    "\n",
    "Выход: sum(1,2,3,...,N)\n",
    "\n",
    "Вход: 3\n",
    "\n",
    "Выход: 6"
   ]
  },
  {
   "cell_type": "code",
   "execution_count": 6,
   "id": "9f361801",
   "metadata": {},
   "outputs": [
    {
     "data": {
      "text/plain": [
       "6"
      ]
     },
     "execution_count": 6,
     "metadata": {},
     "output_type": "execute_result"
    }
   ],
   "source": [
    "def summ(n):\n",
    "  if n == 1:\n",
    "    return 1\n",
    "  else:\n",
    "    return n + summ(n-1)\n",
    "summ(3)"
   ]
  },
  {
   "cell_type": "markdown",
   "id": "de85292c",
   "metadata": {},
   "source": [
    "# Task #3\n",
    "Рекурсивно проверить, является ли строка палиндромом\n",
    "\n",
    "Вход: ололо\n",
    "\n",
    "Выход: True\n",
    "\n",
    "Вход: You shall not pass!\n",
    "\n",
    "Выход: False"
   ]
  },
  {
   "cell_type": "code",
   "execution_count": 9,
   "id": "0e4dd8d7",
   "metadata": {},
   "outputs": [
    {
     "data": {
      "text/plain": [
       "True"
      ]
     },
     "execution_count": 9,
     "metadata": {},
     "output_type": "execute_result"
    }
   ],
   "source": [
    "def palindrome_check (word):\n",
    "  if len(word) < 2:\n",
    "    return True\n",
    "  if word[0] != word[-1]:\n",
    "    return False\n",
    "  return palindrome_check(word[1:-1])\n",
    "palindrome_check('ололо')"
   ]
  }
 ],
 "metadata": {
  "kernelspec": {
   "display_name": "Python 3",
   "language": "python",
   "name": "python3"
  },
  "language_info": {
   "codemirror_mode": {
    "name": "ipython",
    "version": 3
   },
   "file_extension": ".py",
   "mimetype": "text/x-python",
   "name": "python",
   "nbconvert_exporter": "python",
   "pygments_lexer": "ipython3",
   "version": "3.8.8"
  }
 },
 "nbformat": 4,
 "nbformat_minor": 5
}
