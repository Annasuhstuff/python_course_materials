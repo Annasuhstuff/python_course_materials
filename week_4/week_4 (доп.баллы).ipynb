{
 "cells": [
  {
   "cell_type": "markdown",
   "id": "64d899b3",
   "metadata": {},
   "source": [
    "# Task #1\n",
    "# Write a Python program to sum (*multiply) all int/float-items in a list.\n",
    "\n",
    "In: [1, 2, 3, 4, 5, 'one', 'two']\n",
    "\n",
    "Out: 15"
   ]
  },
  {
   "cell_type": "code",
   "execution_count": 2,
   "id": "3e0dc219",
   "metadata": {},
   "outputs": [
    {
     "name": "stdout",
     "output_type": "stream",
     "text": [
      "15\n"
     ]
    }
   ],
   "source": [
    "my_list = [1, 2, 3, 4, 5, 'one', 'two']\n",
    "number = int(0)\n",
    "summ = int(0)\n",
    "\n",
    "while number < len(my_list):\n",
    "    if type(my_list[number]) is int:\n",
    "        summ += my_list[number]\n",
    "        number += 1\n",
    "    else:\n",
    "        number += 1\n",
    "        continue\n",
    "\n",
    "print(summ)"
   ]
  },
  {
   "cell_type": "markdown",
   "id": "4293616e",
   "metadata": {},
   "source": [
    "# Task #2\n",
    "# Write a Python program to remove duplicates from a list."
   ]
  },
  {
   "cell_type": "code",
   "execution_count": 5,
   "id": "94fe9c5b",
   "metadata": {},
   "outputs": [
    {
     "name": "stdout",
     "output_type": "stream",
     "text": [
      "[1, 2, 3, 4]\n"
     ]
    }
   ],
   "source": [
    "previous_list = [1, 1, 2, 2, 2, 3, 3, 4]\n",
    "current_list = []\n",
    "n = int(0)\n",
    "while n < len(previous_list):\n",
    "    if previous_list[n] in current_list:\n",
    "        n += 1\n",
    "    else:\n",
    "        current_list += [previous_list[n]]\n",
    "        n +=1\n",
    "        \n",
    "print(current_list)"
   ]
  },
  {
   "cell_type": "markdown",
   "id": "8510e43a",
   "metadata": {},
   "source": [
    "# Task #3\n",
    "# Write a Python program to generate a 3*4*6 3D array whose each element is *"
   ]
  },
  {
   "cell_type": "code",
   "execution_count": 7,
   "id": "3dc1adf5",
   "metadata": {},
   "outputs": [
    {
     "data": {
      "text/plain": [
       "[[['*', '*', '*', '*', '*', '*'],\n",
       "  ['*', '*', '*', '*', '*', '*'],\n",
       "  ['*', '*', '*', '*', '*', '*'],\n",
       "  ['*', '*', '*', '*', '*', '*']],\n",
       " [['*', '*', '*', '*', '*', '*'],\n",
       "  ['*', '*', '*', '*', '*', '*'],\n",
       "  ['*', '*', '*', '*', '*', '*'],\n",
       "  ['*', '*', '*', '*', '*', '*']],\n",
       " [['*', '*', '*', '*', '*', '*'],\n",
       "  ['*', '*', '*', '*', '*', '*'],\n",
       "  ['*', '*', '*', '*', '*', '*'],\n",
       "  ['*', '*', '*', '*', '*', '*']]]"
      ]
     },
     "execution_count": 7,
     "metadata": {},
     "output_type": "execute_result"
    }
   ],
   "source": [
    "[[['*']* 6]*4]*3"
   ]
  },
  {
   "cell_type": "markdown",
   "id": "b6871849",
   "metadata": {},
   "source": [
    "# Task #4\n",
    "# Write a Python program to change the position of every n-th value with the (n+1)th in a list. Go to the editor\n",
    "\n",
    "Sample list: [0,1,2,3,4,5]\n",
    "    \n",
    "\n",
    "Expected Output: [1, 0, 3, 2, 5, 4]"
   ]
  },
  {
   "cell_type": "code",
   "execution_count": 6,
   "id": "83e8af89",
   "metadata": {},
   "outputs": [
    {
     "name": "stdout",
     "output_type": "stream",
     "text": [
      "[1, 0, 3, 2, 5, 4]\n"
     ]
    }
   ],
   "source": [
    "x = [0, 1, 2, 3, 4, 5]\n",
    "index = 0\n",
    "out = []\n",
    "while index < len(x):\n",
    "    elem = x[index]\n",
    "    next_elem = x[index+1]\n",
    "    out += [next_elem, elem]\n",
    "    index += 2\n",
    "print(out)"
   ]
  },
  {
   "cell_type": "markdown",
   "id": "70650858",
   "metadata": {},
   "source": [
    "# Task #5\n",
    "Write a Python program to add an item in a tuple."
   ]
  },
  {
   "cell_type": "code",
   "execution_count": 9,
   "id": "3ae3028a",
   "metadata": {},
   "outputs": [
    {
     "name": "stdout",
     "output_type": "stream",
     "text": [
      "(' ', 'a')\n"
     ]
    }
   ],
   "source": [
    "n = tuple(' ')\n",
    "m = tuple('a')\n",
    "\n",
    "n = n + m\n",
    "print(n)"
   ]
  },
  {
   "cell_type": "markdown",
   "id": "885264e7",
   "metadata": {},
   "source": [
    "# Task #6\n",
    "Write a Python program to sort a tuple by its float element.\n",
    "\n",
    "\n",
    "Sample data: [('item1', '12.20'), ('item2', '15.10'), ('item3', '24.5')]\n",
    "    \n",
    "\n",
    "Expected Output: [('item3', '24.5'), ('item2', '15.10'), ('item1', '12.20')]\n",
    "    "
   ]
  },
  {
   "cell_type": "code",
   "execution_count": 10,
   "id": "ae6480a4",
   "metadata": {},
   "outputs": [
    {
     "name": "stdout",
     "output_type": "stream",
     "text": [
      "[('item3', '24.5'), ('item2', '15.10'), ('item1', '12.20')]\n"
     ]
    }
   ],
   "source": [
    "mydata = [('item1', '12.20'), ('item2', '15.10'), ('item3', '24.5')]\n",
    "mydata.sort(reverse=True)\n",
    "print(mydata)"
   ]
  },
  {
   "cell_type": "markdown",
   "id": "1ab1f3d2",
   "metadata": {},
   "source": [
    "# Task #7\n",
    "Write a Python program to compute element-wise sum of given tuples.\n",
    "\n",
    "Original lists:\n",
    "    \n",
    "\n",
    "(1, 2, 3, 4)\n",
    "(3, 5, 2, 1)\n",
    "(2, 2, 3, 1)\n",
    "\n",
    "\n",
    "Element-wise sum of the said tuples:\n",
    "    \n",
    "\n",
    "(6, 9, 8, 6)"
   ]
  },
  {
   "cell_type": "code",
   "execution_count": 11,
   "id": "957c197d",
   "metadata": {},
   "outputs": [
    {
     "name": "stdout",
     "output_type": "stream",
     "text": [
      "(6, 9, 8, 6)\n"
     ]
    }
   ],
   "source": [
    "k1 = (1, 2, 3, 4)\n",
    "k2 = (3, 5, 2, 1)\n",
    "k3 = (2, 2, 3, 1)\n",
    "\n",
    "k_sum = (k1[0]+k2[0]+k3[0],k1[1]+k2[1]+k3[1],k1[2]+k2[2]+k3[2],k1[3]+k2[3]+k3[3])\n",
    "print(k_sum)"
   ]
  },
  {
   "cell_type": "markdown",
   "id": "29d2f246",
   "metadata": {},
   "source": [
    "# Home Tasks\n",
    "# Task #1\n",
    "Write a Python program to get the difference between the two lists.\n",
    "\n",
    "Example 1.\n",
    "\n",
    "In: [1, 2, 3] [2, 2, 3]\n",
    "\n",
    "Out:\n",
    "\n",
    "Elements with index 0 are defferent: list1[0]: 1, list2[0]: 2\n",
    "\n",
    "Example 2.\n",
    "\n",
    "In: [1, 2, 3, 5] [2, 2, 3, 6]\n",
    "\n",
    "Out:\n",
    "\n",
    "Elements with index 0 are defferent: list1[0]: 1, list2[0]: 2\n",
    "\n",
    "Elements with index 3 are defferent: list1[3]: 5, list2[3]: 6"
   ]
  },
  {
   "cell_type": "code",
   "execution_count": 12,
   "id": "2dd244e1",
   "metadata": {},
   "outputs": [
    {
     "name": "stdout",
     "output_type": "stream",
     "text": [
      "Elements with index 0 are different: l1[0]: 1, l2[0]: 2\n",
      "Elements with index 3 are different: l1[3]: 5, l2[3]: 6\n"
     ]
    }
   ],
   "source": [
    "l1 = [1, 2, 3, 5]\n",
    "l2 = [2, 2, 3, 6]\n",
    "n = 0\n",
    "\n",
    "while n < len(l1):\n",
    "    if l1[n] != l2[n]:\n",
    "        print('Elements with index {0} are different: l1[{0}]: {1}, l2[{0}]: {2}'.format(n, l1[n], l2[n]))\n",
    "        n += 1\n",
    "    else:\n",
    "        n += 1\n",
    "        continue"
   ]
  }
 ],
 "metadata": {
  "kernelspec": {
   "display_name": "Python 3",
   "language": "python",
   "name": "python3"
  },
  "language_info": {
   "codemirror_mode": {
    "name": "ipython",
    "version": 3
   },
   "file_extension": ".py",
   "mimetype": "text/x-python",
   "name": "python",
   "nbconvert_exporter": "python",
   "pygments_lexer": "ipython3",
   "version": "3.8.8"
  }
 },
 "nbformat": 4,
 "nbformat_minor": 5
}
