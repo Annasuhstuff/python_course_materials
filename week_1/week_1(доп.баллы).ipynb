{
 "cells": [
  {
   "cell_type": "markdown",
   "id": "10d605bd",
   "metadata": {},
   "source": [
    "# Week 1"
   ]
  },
  {
   "cell_type": "markdown",
   "id": "db07c7c0",
   "metadata": {},
   "source": [
    "# Home tasks\n",
    "# Task #1\n",
    "Сумма цифр трехзначного числа\n",
    "\n",
    "Дано трехзначное число 179. Найдите сумму его цифр.\n",
    "\n",
    "Формат вывода\n",
    "\n",
    "Выведите ответ на задачу.\n",
    "\n",
    "Ответ\n",
    "\n",
    "Вывод программы:\n",
    "17"
   ]
  },
  {
   "cell_type": "code",
   "execution_count": 1,
   "id": "51cd051d",
   "metadata": {},
   "outputs": [
    {
     "name": "stdout",
     "output_type": "stream",
     "text": [
      "17\n"
     ]
    }
   ],
   "source": [
    "x = 179\n",
    "x_1 = x % 10\n",
    "x_2 = (x // 10) % 10\n",
    "x_3 = (x // 100)\n",
    "print(x_1 + x_2 + x_3)"
   ]
  },
  {
   "cell_type": "markdown",
   "id": "7959bf43",
   "metadata": {},
   "source": [
    "# Task #2\n",
    "# Электронные часы\n",
    "\n",
    "Дано число N. С начала суток прошло N минут. Определите, сколько часов и минут будут показывать электронные часы в этот момент.\n",
    "\n",
    "Формат ввода\n",
    "\n",
    "Вводится число N — целое, положительное, не превышает 10⁷.\n",
    "\n",
    "Формат вывода\n",
    "\n",
    "Программа должна вывести два числа: количество часов (от 0 до 23) и количество минут (от 0 до 59).\n",
    "\n",
    "Учтите, что число N может быть больше, чем количество минут в сутках.\n",
    "\n",
    "Примеры\n",
    "\n",
    "Тест 1\n",
    "\n",
    "Входные данные:\n",
    "    \n",
    "150\n",
    "\n",
    "Вывод программы:\n",
    "    \n",
    "2 30"
   ]
  },
  {
   "cell_type": "code",
   "execution_count": 3,
   "id": "ab1db07c",
   "metadata": {},
   "outputs": [
    {
     "name": "stdout",
     "output_type": "stream",
     "text": [
      "150\n",
      "2 30\n"
     ]
    }
   ],
   "source": [
    "n = int(input())\n",
    "if n > 10**7 and n < 0:\n",
    "    print ('Число превышает максимально возможное или отрицательное')\n",
    "    exit()\n",
    "day = n % (60 * 24)\n",
    "hours = day // 60\n",
    "minutes = day - hours * 60\n",
    "print (hours, minutes)"
   ]
  }
 ],
 "metadata": {
  "kernelspec": {
   "display_name": "Python 3",
   "language": "python",
   "name": "python3"
  },
  "language_info": {
   "codemirror_mode": {
    "name": "ipython",
    "version": 3
   },
   "file_extension": ".py",
   "mimetype": "text/x-python",
   "name": "python",
   "nbconvert_exporter": "python",
   "pygments_lexer": "ipython3",
   "version": "3.8.8"
  }
 },
 "nbformat": 4,
 "nbformat_minor": 5
}
