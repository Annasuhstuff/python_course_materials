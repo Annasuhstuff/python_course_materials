{
 "cells": [
  {
   "cell_type": "markdown",
   "id": "ef43214b",
   "metadata": {},
   "source": [
    "# 0. Наибольший общий делитель - 1 балл\n",
    "Напишите функцию, которая на вход принимает два целых числа, а на выходе отдает их наибольших общий делитель. \n",
    "\n",
    "Пример\n",
    "\n",
    "Ввод \n",
    "\n",
    "`lcd(10,2)`\n",
    "\n",
    "Вывод\n",
    "\n",
    "`2`\n",
    "\n",
    "Пример\n",
    "\n",
    "Ввод \n",
    "\n",
    "`lcd(10,25)`\n",
    "\n",
    "Вывод\n",
    "\n",
    "`5`"
   ]
  },
  {
   "cell_type": "code",
   "execution_count": 1,
   "id": "d227561c",
   "metadata": {},
   "outputs": [
    {
     "name": "stdout",
     "output_type": "stream",
     "text": [
      "5\n"
     ]
    }
   ],
   "source": [
    "def lcd (a, b):\n",
    "    if a > b:\n",
    "        r = a % b\n",
    "        if r == 0:\n",
    "            return b\n",
    "        else:\n",
    "            return lcd (b, r)\n",
    "    if a < b:\n",
    "        r = b % a\n",
    "        if r == 0:\n",
    "            return a\n",
    "        else:\n",
    "            return lcd (a, r)\n",
    "\n",
    "print (lcd(10, 25))"
   ]
  },
  {
   "cell_type": "markdown",
   "id": "777171f3",
   "metadata": {},
   "source": [
    "# 1. Задачка про перевод из `camel_case`'a в `snake_case` - 1.5 балла\n",
    " Напишите функцию, которая на вход принимает строку, записанную в `CamelCase`, а переводит ее в `snake_case`.\n",
    " Подсказка: идите по строке циклом, обрабатывайте каждый символ, если символ заглавный, к обработанным ранее добавляйте нижнее подчеркивание и нынешний переводите в `lower case` \n",
    " \n",
    " Пример:\n",
    "\n",
    "**Вход**: `'camelCaseVar'`\n",
    "\n",
    "**Выход**: `'camel_сase_var'`"
   ]
  },
  {
   "cell_type": "code",
   "execution_count": 2,
   "id": "5e4c1ced",
   "metadata": {},
   "outputs": [
    {
     "name": "stdout",
     "output_type": "stream",
     "text": [
      "а_ааааа_а\n"
     ]
    }
   ],
   "source": [
    "def camel_to_snake(str):\n",
    "    result = \"\"\n",
    "    for c in str:\n",
    "        if c.isupper():\n",
    "            if len(result) == 0:\n",
    "                result += c.lower()\n",
    "            else:\n",
    "                result += '_' + c.lower()\n",
    "        else:\n",
    "            result += c\n",
    "    return result\n",
    "\n",
    "print (camel_to_snake( \"ААааааА\" ))"
   ]
  },
  {
   "cell_type": "markdown",
   "id": "929847a2",
   "metadata": {},
   "source": [
    "# 2. Про Поросёнка Петра - 2 балла\n",
    "На плоскости в точке `(0,0)` стоит Поросёнок Пётр. Он умеет ходить налево, направо, вверх и вниз. Расстояние его прохода в какую-либо сторону измеряется в шагах. Когда он идет вправо, его первая координата увеличивается, когда влево - уменьшается. Когда он идет вверх, его вторая координата увеличивается, а когда вниз - уменьшается.\n",
    "С клавиатуры считывается число `N` - число ходов, которые сделает Пётр. После чего на каждом шаге спрашивается, сколько шагов и в какую сторону за этот ход Пётр сделает. Так происходит, пока Пётр не осуществит все N ходов.\n",
    "Программа должна вывести, сколько шагов Пётр должен был бы сделать, чтобы кратчайшим путем прибыть из свое начальной точки `(0,0)` в свою конечную точку. \n",
    "\n",
    "Напоминание: Пётр умеет ходить только вверх-вниз, и влево-вправо, но не по диагонали.\n",
    "\n",
    "Пример ввода:\n",
    "\n",
    "Введите N: `3`\n",
    "\n",
    "Ход 1: `Вверх 1`\n",
    "\n",
    "Ход 2: `Вниз 1`\n",
    "\n",
    "Ход 3: `Вверх 1`\n",
    "\n",
    "Пример вывода:\n",
    "`Пётр находится на расстоянии 1 от (0,0)`"
   ]
  },
  {
   "cell_type": "code",
   "execution_count": null,
   "id": "b3231431",
   "metadata": {},
   "outputs": [],
   "source": [
    "def peter (where, steps):\n",
    "    if where == 'Вверх':\n",
    "        return 0, int(steps)\n",
    "    elif where == 'Вниз':\n",
    "        return 0, -int(steps)\n",
    "    elif where == 'Вправо':\n",
    "        return int(steps), 0\n",
    "    elif where == 'Влево':\n",
    "        return -int(steps), 0\n",
    "    return 0, 0\n",
    "\n",
    "position_x = 0\n",
    "position_y = 0\n",
    "n = input('Введите N: ')\n",
    "for i in range(1, int(n) + 1):\n",
    "    line = input('Step {}: '.format(i))\n",
    "    words = line.split()\n",
    "    where = words[0]\n",
    "    steps = int(words[1])\n",
    "    print('parsed words: [{}], [{}]'.format(where, steps))\n",
    "    dx, dy = get_dxy(where, steps)\n",
    "    print('dx: {}, dy: {}'.format(dx, dy))\n",
    "    position_x = position_x + dx\n",
    "    position_y = position_y + dy\n",
    "\n",
    "pos = abs(position_x) + abs(position_y)\n",
    "\n",
    "print ( 'Петр находится на расстоянии {} от (0, 0)'.format(abs(pos)))"
   ]
  },
  {
   "cell_type": "markdown",
   "id": "818909ca",
   "metadata": {},
   "source": [
    "# 3. Sort the keys of the dictionary from a to z.  - 0.5 балла"
   ]
  },
  {
   "cell_type": "code",
   "execution_count": null,
   "id": "b04f201c",
   "metadata": {},
   "outputs": [],
   "source": [
    "d_ = {\"tiramisu\":5, \"chocolate\":2, \"pudding\":3, \"cheesecake\":4}\n",
    "\n",
    "def my_function ( d_ ):\n",
    "    \n",
    "    sorteddic = sorted (d_)\n",
    "    return sorted ( d_ )\n",
    "    sorteddic = my_function(d_)\n",
    "\n",
    "print (my_function(d_))"
   ]
  },
  {
   "cell_type": "markdown",
   "id": "77275ebf",
   "metadata": {},
   "source": [
    "# 4. Compare three values, return true only if 2 or more values are equal - 0.5 балла"
   ]
  },
  {
   "cell_type": "code",
   "execution_count": null,
   "id": "36f8fd8b",
   "metadata": {},
   "outputs": [],
   "source": [
    "def numbers (a, b, c):\n",
    "    if a == b  or b == c or a == c:\n",
    "        return True\n",
    "    else :\n",
    "        return False\n",
    "\n",
    "print (numbers (3,3,3))\n",
    "print (numbers (3,5,5))\n",
    "print (numbers (3,4,5))\n",
    "print (numbers (1,1,5))\n",
    "print (numbers (3,4,4))"
   ]
  },
  {
   "cell_type": "markdown",
   "id": "895340c0",
   "metadata": {},
   "source": [
    "# 5. Given a list with pairs, sort on the sum of pairs - 0.5 балла"
   ]
  },
  {
   "cell_type": "code",
   "execution_count": null,
   "id": "7a8971e2",
   "metadata": {},
   "outputs": [],
   "source": [
    "x = [(3,6),(4,7),(5,9),(8,4),(3,1)]\n",
    "\n",
    "def sortedpairs (x):\n",
    "\n",
    "    x.sort(key=lambda item: (item[0]+item[1]))  \n",
    "    return x\n",
    "print(sortedpairs(x))"
   ]
  },
  {
   "cell_type": "markdown",
   "id": "be5b7018",
   "metadata": {},
   "source": [
    "# 6. Create a function that takes a list of numbers. Return the largest number in the list. - 0.5 балла"
   ]
  },
  {
   "cell_type": "code",
   "execution_count": null,
   "id": "2ddbc7bf",
   "metadata": {},
   "outputs": [],
   "source": [
    "findLargestNum([4, 5, 1, 3]) ➞ 5\n",
    "\n",
    "findLargestNum([300, 200, 600, 150]) ➞ 600\n",
    "\n",
    "findLargestNum([1000, 1001, 857, 1]) ➞ 1001"
   ]
  },
  {
   "cell_type": "code",
   "execution_count": null,
   "id": "94ce6e15",
   "metadata": {},
   "outputs": [],
   "source": [
    "def my_max(arr):\n",
    "        \n",
    "    max= 0\n",
    "    for i in arr:\n",
    "        if i > max:\n",
    "            max = i\n",
    "    return max\n",
    "print(list(map(my_max, [[4, 5, 1, 3], [300, 200, 600, 150], [1000, 1001, 857, 1]])))\n"
   ]
  },
  {
   "cell_type": "markdown",
   "id": "17918763",
   "metadata": {},
   "source": [
    "# 7. Create a function that takes a string and returns the concatenated first and last character. - 0.5 балла"
   ]
  },
  {
   "cell_type": "code",
   "execution_count": null,
   "id": "7062bfdb",
   "metadata": {},
   "outputs": [],
   "source": [
    "repetition(\"ab\", 3) ➞ \"ababab\"\n",
    "\n",
    "repetition(\"kiwi\", 1) ➞ \"kiwi\"\n",
    "\n",
    "repetition(\"cherry\", 2) ➞ \"cherrycherry\""
   ]
  },
  {
   "cell_type": "code",
   "execution_count": null,
   "id": "de375640",
   "metadata": {},
   "outputs": [],
   "source": [
    "def newword ():\n",
    "    sttr = input( )\n",
    "    n = int(input( ))\n",
    "    return (sttr * n)\n",
    "newword ()    "
   ]
  },
  {
   "cell_type": "markdown",
   "id": "5c2fe48a",
   "metadata": {},
   "source": [
    "# 8. Create a function that takes a 2D list lst returns the sum of the minimum value in each row. - 0.5 балла"
   ]
  },
  {
   "cell_type": "code",
   "execution_count": null,
   "id": "c3232abb",
   "metadata": {},
   "outputs": [],
   "source": [
    "sum_minimums([\n",
    "  [1, 2, 3, 4, 5],\n",
    "  [5, 6, 7, 8, 9],\n",
    "  [20, 21, 34, 56, 100]\n",
    "] ➞ 26\n",
    "\n",
    "# minimum value of the first row is 1\n",
    "# minimum value of the second row is 5\n",
    "# minimum value of the third row is 20"
   ]
  },
  {
   "cell_type": "code",
   "execution_count": null,
   "id": "0d812098",
   "metadata": {},
   "outputs": [],
   "source": [
    "sum_minimums = ([\n",
    "  [1, 2, 3, 4, 5],\n",
    "  [5, 6, 7, 8, 9],\n",
    "  [20, 21, 34, 56, 100]\n",
    "])\n",
    "\n",
    "def my_min(arr):\n",
    "        \n",
    "    min = arr [0]\n",
    "    for i in arr:\n",
    "        if i < min :\n",
    "            min = i\n",
    "    return min\n",
    "print(sum(list(map(my_min, sum_minimums  ))))\n"
   ]
  },
  {
   "cell_type": "markdown",
   "id": "f3639e49",
   "metadata": {},
   "source": [
    "# 9. Create a function to return the amount of potatoes there are in a string. - 0.5 балла"
   ]
  },
  {
   "cell_type": "code",
   "execution_count": null,
   "id": "e2610cbd",
   "metadata": {},
   "outputs": [],
   "source": [
    "potatoes(\"potato\") ➞ 1\n",
    "\n",
    "potatoes(\"potatopotato\") ➞ 2\n",
    "\n",
    "potatoes(\"potatoapple\") ➞ 1"
   ]
  },
  {
   "cell_type": "code",
   "execution_count": null,
   "id": "c1deeb84",
   "metadata": {},
   "outputs": [],
   "source": [
    "def potatofunction (text):\n",
    "  potatocount = 0\n",
    "  potatoes = False\n",
    "  while not potatoes:\n",
    "    start = text.find(\"potato\")\n",
    "    if start == -1:\n",
    "      potatoes = True\n",
    "    else:\n",
    "      idx_from = start + len(\"potato\")\n",
    "      text = text [idx_from:]\n",
    "      potatocount += 1\n",
    "  return (potatocount)\n",
    "print (potatofunction ( \"potatopotato\" ))"
   ]
  },
  {
   "cell_type": "markdown",
   "id": "7fb5aa44",
   "metadata": {},
   "source": [
    "# 10. Create a function that takes a list of integers as an argument and returns a unique number from that list. All numbers except unique ones have the same number of occurrences in the list. - 0.5 балла"
   ]
  },
  {
   "cell_type": "code",
   "execution_count": null,
   "id": "2bc0a269",
   "metadata": {},
   "outputs": [],
   "source": [
    "find_single_number([2, 2, 2, 3, 4, 4, 4]) ➞ 3\n",
    "\n",
    "find_single_number([2]) ➞ 2\n",
    "\n",
    "find_single_number([]) ➞ None\n",
    "\n",
    "find_single_number([7, 13, 3, 6, 5, 4, 4, 13, 5, 3, 6, 7, 6, 5, 3, 13, 4, 7, 13, 5, 7, 4, 3, 6, 8, 4, 3, 7, 5, 6, 13]) ➞ 8\n",
    "\n",
    "find_single_number([1, 2, 3, 6, 5, 4, 4, 2, 5, 3, 6, 1, 6, 5, 3, 2, 4, 1, 2, 5, 1, 4, 3, 6, 101, 4, 3, 1, 5, 6, 2]) ➞ 101"
   ]
  },
  {
   "cell_type": "code",
   "execution_count": null,
   "id": "f7cb9ab4",
   "metadata": {},
   "outputs": [],
   "source": [
    "def find_single_number(list):\n",
    "    for i in list:\n",
    "        uniq_number = 0\n",
    "        uniq_qty = 0\n",
    "        for j in list:\n",
    "            if i == j:\n",
    "                uniq_number = i\n",
    "                uniq_qty += 1\n",
    "        if uniq_qty == 1:\n",
    "            return uniq_number\n",
    "    return None\n",
    "\n",
    "l = [ 5, 12, 13, 5, 4, 12, 13, 14, 1, 14, 1, 4, 100500 ]\n",
    "print(find_single_number(l))"
   ]
  },
  {
   "cell_type": "markdown",
   "id": "0313ea52",
   "metadata": {},
   "source": [
    "# 11. Given a letter and a list of words, return whether the letter does not appear in any of the words. - 0.5 балла"
   ]
  },
  {
   "cell_type": "code",
   "execution_count": null,
   "id": "0cb649a5",
   "metadata": {},
   "outputs": [],
   "source": [
    "forbidden_letter(\"r\", [\"rock\", \"paper\", \"scissors\"]) ➞ False\n",
    "\n",
    "forbidden_letter(\"a\", [\"spoon\", \"fork\", \"knife\"]) ➞ True\n",
    "\n",
    "forbidden_letter(\"m\", []) ➞ True"
   ]
  },
  {
   "cell_type": "code",
   "execution_count": null,
   "id": "2155bdc8",
   "metadata": {},
   "outputs": [],
   "source": [
    "def forbidden_letter (letter, thelist):\n",
    "  for word in thelist:\n",
    "    for l in word:\n",
    "        if l == letter:\n",
    "            return False\n",
    "  return True\n",
    "\n",
    "print(forbidden_letter(\"r\", [\"rock\", \"paper\", \"scissors\"]))\n",
    "print(forbidden_letter(\"a\", [\"spoon\", \"fork\", \"knife\"]))\n",
    "print(forbidden_letter(\"m\", []))"
   ]
  },
  {
   "cell_type": "markdown",
   "id": "0a7ef5b5",
   "metadata": {},
   "source": [
    "# 12.  Define a function which create a Pattern like this one.  - 2 балла"
   ]
  },
  {
   "cell_type": "code",
   "execution_count": null,
   "id": "7617ebb7",
   "metadata": {},
   "outputs": [],
   "source": [
    "Input: 4\n",
    "Pattern:\n",
    "\n",
    " 01234\n",
    "  | |     0\n",
    " -----    1\n",
    "  | |     2\n",
    " -----    3\n",
    "  | |     4"
   ]
  },
  {
   "cell_type": "code",
   "execution_count": null,
   "id": "5d3b0cdd",
   "metadata": {},
   "outputs": [],
   "source": [
    "def print_pattern(size):\n",
    "    size += 1\n",
    "    first_row = ''\n",
    "    for i in range(size):\n",
    "            first_row += str(i)\n",
    "    print(first_row)\n",
    "    row = ''\n",
    "    for i in range(size):\n",
    "        if i % 2 == 0:\n",
    "            row += ' '\n",
    "        else:\n",
    "            row += '|'\n",
    "    for i in range(size):\n",
    "        if i % 2 == 0:\n",
    "            print(row + '   ' + str(i))\n",
    "        else:\n",
    "            print('-' * size + '   ' + str(i))\n",
    "sz = int(input(\"Введите число: \"))\n",
    "print_pattern(sz)"
   ]
  },
  {
   "cell_type": "markdown",
   "id": "0d5edcd1",
   "metadata": {},
   "source": [
    "# 13. Create a function that takes three numbers as arguments and returns True if it's a triangle and False if not.  - 0.5 балла"
   ]
  },
  {
   "cell_type": "code",
   "execution_count": null,
   "id": "d867302c",
   "metadata": {},
   "outputs": [],
   "source": [
    "is_triangle(2, 3, 4) ➞ True\n",
    "\n",
    "is_triangle(3, 4, 5) ➞ True\n",
    "\n",
    "is_triangle(4, 3, 8) ➞ False"
   ]
  },
  {
   "cell_type": "code",
   "execution_count": null,
   "id": "2fb2f8f9",
   "metadata": {},
   "outputs": [],
   "source": [
    "def is_triangle (x, y, z):\n",
    "  value = True\n",
    "  if ( x + y <= z ) or ( x + z <= y) or ( y + z <= x ):\n",
    "    value = False\n",
    "  return value\n",
    "print (is_triangle(2, 3, 4))\n",
    "print (is_triangle(3, 4, 5))\n",
    "print (is_triangle(4, 3, 8))"
   ]
  },
  {
   "cell_type": "markdown",
   "id": "2bdfb66e",
   "metadata": {},
   "source": [
    "# 14. Create a \"Code\" Generator that takes text as input and replaces some letter with another letter, and outputs the \"encoded\" message. Create funcs to encode and decode messages"
   ]
  },
  {
   "cell_type": "code",
   "execution_count": null,
   "id": "0caf2b35",
   "metadata": {},
   "outputs": [],
   "source": [
    "replacement = {\"a\": \"b\", \"d\": \"1\" ......}"
   ]
  },
  {
   "cell_type": "code",
   "execution_count": null,
   "id": "c4a4b3ba",
   "metadata": {},
   "outputs": [],
   "source": [
    "def generator(letters, text):\n",
    "  result = ''\n",
    "  for symbol in text:\n",
    "    if symbol in letters:\n",
    "      result += letters[symbol]\n",
    "    else:\n",
    "      result += symbol\n",
    "  return result\n",
    "\n",
    "def encoder (text):\n",
    "  codedic = {'a' : 'A', 'b' : 'B', 'c' : 'C', 'z' : 'Z'}\n",
    "  return generator(codedic, text)\n",
    "\n",
    "def decoder (text):\n",
    "  codedic = {'A' : 'a', 'B' : 'b', 'C' : 'c', 'Z': 'z'}\n",
    "  return generator(codedic, text)\n",
    "\n",
    "encoded = encoder ('a b c z')\n",
    "print(encoded)\n",
    "decoded = decoder (encoded)\n",
    "print(decoded)"
   ]
  }
 ],
 "metadata": {
  "kernelspec": {
   "display_name": "Python 3",
   "language": "python",
   "name": "python3"
  },
  "language_info": {
   "codemirror_mode": {
    "name": "ipython",
    "version": 3
   },
   "file_extension": ".py",
   "mimetype": "text/x-python",
   "name": "python",
   "nbconvert_exporter": "python",
   "pygments_lexer": "ipython3",
   "version": "3.8.8"
  }
 },
 "nbformat": 4,
 "nbformat_minor": 5
}
