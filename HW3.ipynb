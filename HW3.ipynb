{
 "cells": [
  {
   "cell_type": "code",
   "execution_count": 1,
   "id": "2aafd0d2",
   "metadata": {},
   "outputs": [
    {
     "name": "stdout",
     "output_type": "stream",
     "text": [
      "Requirement already satisfied: natasha in /Users/anna/opt/anaconda3/lib/python3.8/site-packages (1.4.0)\n",
      "Requirement already satisfied: pymorphy2 in /Users/anna/opt/anaconda3/lib/python3.8/site-packages (from natasha) (0.9.1)\n",
      "Requirement already satisfied: navec>=0.9.0 in /Users/anna/opt/anaconda3/lib/python3.8/site-packages (from natasha) (0.10.0)\n",
      "Requirement already satisfied: razdel>=0.5.0 in /Users/anna/opt/anaconda3/lib/python3.8/site-packages (from natasha) (0.5.0)\n",
      "Requirement already satisfied: ipymarkup>=0.8.0 in /Users/anna/opt/anaconda3/lib/python3.8/site-packages (from natasha) (0.9.0)\n",
      "Requirement already satisfied: slovnet>=0.3.0 in /Users/anna/opt/anaconda3/lib/python3.8/site-packages (from natasha) (0.5.0)\n",
      "Requirement already satisfied: yargy>=0.14.0 in /Users/anna/opt/anaconda3/lib/python3.8/site-packages (from natasha) (0.15.0)\n",
      "Requirement already satisfied: intervaltree>=3 in /Users/anna/opt/anaconda3/lib/python3.8/site-packages (from ipymarkup>=0.8.0->natasha) (3.1.0)\n",
      "Requirement already satisfied: sortedcontainers<3.0,>=2.0 in /Users/anna/opt/anaconda3/lib/python3.8/site-packages (from intervaltree>=3->ipymarkup>=0.8.0->natasha) (2.3.0)\n",
      "Requirement already satisfied: numpy in /Users/anna/opt/anaconda3/lib/python3.8/site-packages (from navec>=0.9.0->natasha) (1.20.1)\n",
      "Requirement already satisfied: docopt>=0.6 in /Users/anna/opt/anaconda3/lib/python3.8/site-packages (from pymorphy2->natasha) (0.6.2)\n",
      "Requirement already satisfied: pymorphy2-dicts-ru<3.0,>=2.4 in /Users/anna/opt/anaconda3/lib/python3.8/site-packages (from pymorphy2->natasha) (2.4.417127.4579844)\n",
      "Requirement already satisfied: dawg-python>=0.7.1 in /Users/anna/opt/anaconda3/lib/python3.8/site-packages (from pymorphy2->natasha) (0.7.2)\n",
      "Requirement already satisfied: ipymarkup in /Users/anna/opt/anaconda3/lib/python3.8/site-packages (0.9.0)\n",
      "Requirement already satisfied: intervaltree>=3 in /Users/anna/opt/anaconda3/lib/python3.8/site-packages (from ipymarkup) (3.1.0)\n",
      "Requirement already satisfied: sortedcontainers<3.0,>=2.0 in /Users/anna/opt/anaconda3/lib/python3.8/site-packages (from intervaltree>=3->ipymarkup) (2.3.0)\n"
     ]
    }
   ],
   "source": [
    "!pip install -U natasha\n",
    "!pip install ipymarkup"
   ]
  },
  {
   "cell_type": "code",
   "execution_count": 2,
   "id": "339ad7cc",
   "metadata": {},
   "outputs": [],
   "source": [
    "import re"
   ]
  },
  {
   "cell_type": "code",
   "execution_count": 3,
   "id": "5ad5ac9f",
   "metadata": {},
   "outputs": [],
   "source": [
    "from natasha import (\n",
    "    Segmenter,\n",
    "    MorphVocab,\n",
    "    NamesExtractor,\n",
    "    DatesExtractor,\n",
    "    MoneyExtractor,\n",
    "    AddrExtractor,\n",
    "    Doc,\n",
    "    PER,\n",
    "    Segmenter,\n",
    "    NewsEmbedding,\n",
    "    NewsMorphTagger,\n",
    "    NewsSyntaxParser,\n",
    "    NewsNERTagger,\n",
    ")"
   ]
  },
  {
   "cell_type": "code",
   "execution_count": 4,
   "id": "fca3ad78",
   "metadata": {},
   "outputs": [],
   "source": [
    "from razdel import tokenize"
   ]
  },
  {
   "cell_type": "code",
   "execution_count": 5,
   "id": "63d25073",
   "metadata": {},
   "outputs": [],
   "source": [
    "sents = ['Посол Израиля на Украине Йоэль Лион признался, что пришел в шок, узнав о решении властей Львовской области объявить 2019 год годом лидера запрещенной в России Организации украинских националистов (ОУН) Степана Бандеры.',\n",
    " 'Свое заявление он разместил в Twitter.',\n",
    " '«Я не могу понять, как прославление тех, кто непосредственно принимал участие в ужасных антисемитских преступлениях, помогает бороться с антисемитизмом и ксенофобией.',\n",
    " 'Украина не должна забывать о преступлениях, совершенных против украинских евреев, и никоим образом не отмечать их через почитание их исполнителей», — написал дипломат.',\n",
    " '11 декабря Львовский областной совет принял решение провозгласить 2019 год в регионе годом Степана Бандеры в связи с празднованием 110-летия со дня рождения лидера ОУН (Бандера родился 1 января 1909 года).',\n",
    " 'В июле аналогичное решение принял Житомирский областной совет.',\n",
    " 'В начале месяца с предложением к президенту страны Петру Порошенко вернуть Бандере звание Героя Украины обратились депутаты Верховной Рады.',\n",
    " 'Парламентарии уверены, что признание Бандеры национальным героем поможет в борьбе с подрывной деятельностью против Украины в информационном поле, а также остановит «распространение мифов, созданных российской пропагандой».',\n",
    " 'Степан Бандера (1909-1959) был одним из лидеров Организации украинских националистов, выступающей за создание независимого государства на территориях с украиноязычным населением.',\n",
    " 'В 2010 году в период президентства Виктора Ющенко Бандера был посмертно признан Героем Украины, однако впоследствии это решение было отменено судом.']"
   ]
  },
  {
   "cell_type": "code",
   "execution_count": 145,
   "id": "2d67d9e9",
   "metadata": {},
   "outputs": [],
   "source": [
    "def razdel_tokenizer(text):\n",
    "    return [item.text for item in list(tokenize(text))]\n",
    "tokens = [razdel_tokenizer(item) for item in sents]"
   ]
  },
  {
   "cell_type": "code",
   "execution_count": 146,
   "id": "1f0f1690",
   "metadata": {},
   "outputs": [
    {
     "name": "stdout",
     "output_type": "stream",
     "text": [
      "[['Посол', 'Израиля', 'на', 'Украине', 'Йоэль', 'Лион', 'признался', ',', 'что', 'пришел', 'в', 'шок', ',', 'узнав', 'о', 'решении', 'властей', 'Львовской', 'области', 'объявить', '2019', 'год', 'годом', 'лидера', 'запрещенной', 'в', 'России', 'Организации', 'украинских', 'националистов', '(', 'ОУН', ')', 'Степана', 'Бандеры', '.'], ['Свое', 'заявление', 'он', 'разместил', 'в', 'Twitter', '.'], ['«', 'Я', 'не', 'могу', 'понять', ',', 'как', 'прославление', 'тех', ',', 'кто', 'непосредственно', 'принимал', 'участие', 'в', 'ужасных', 'антисемитских', 'преступлениях', ',', 'помогает', 'бороться', 'с', 'антисемитизмом', 'и', 'ксенофобией', '.'], ['Украина', 'не', 'должна', 'забывать', 'о', 'преступлениях', ',', 'совершенных', 'против', 'украинских', 'евреев', ',', 'и', 'никоим', 'образом', 'не', 'отмечать', 'их', 'через', 'почитание', 'их', 'исполнителей', '»', ',', '—', 'написал', 'дипломат', '.'], ['11', 'декабря', 'Львовский', 'областной', 'совет', 'принял', 'решение', 'провозгласить', '2019', 'год', 'в', 'регионе', 'годом', 'Степана', 'Бандеры', 'в', 'связи', 'с', 'празднованием', '110-летия', 'со', 'дня', 'рождения', 'лидера', 'ОУН', '(', 'Бандера', 'родился', '1', 'января', '1909', 'года', ')', '.'], ['В', 'июле', 'аналогичное', 'решение', 'принял', 'Житомирский', 'областной', 'совет', '.'], ['В', 'начале', 'месяца', 'с', 'предложением', 'к', 'президенту', 'страны', 'Петру', 'Порошенко', 'вернуть', 'Бандере', 'звание', 'Героя', 'Украины', 'обратились', 'депутаты', 'Верховной', 'Рады', '.'], ['Парламентарии', 'уверены', ',', 'что', 'признание', 'Бандеры', 'национальным', 'героем', 'поможет', 'в', 'борьбе', 'с', 'подрывной', 'деятельностью', 'против', 'Украины', 'в', 'информационном', 'поле', ',', 'а', 'также', 'остановит', '«', 'распространение', 'мифов', ',', 'созданных', 'российской', 'пропагандой', '»', '.'], ['Степан', 'Бандера', '(', '1909-1959', ')', 'был', 'одним', 'из', 'лидеров', 'Организации', 'украинских', 'националистов', ',', 'выступающей', 'за', 'создание', 'независимого', 'государства', 'на', 'территориях', 'с', 'украиноязычным', 'населением', '.'], ['В', '2010', 'году', 'в', 'период', 'президентства', 'Виктора', 'Ющенко', 'Бандера', 'был', 'посмертно', 'признан', 'Героем', 'Украины', ',', 'однако', 'впоследствии', 'это', 'решение', 'было', 'отменено', 'судом', '.']]\n"
     ]
    }
   ],
   "source": [
    "print(tokens)"
   ]
  },
  {
   "cell_type": "code",
   "execution_count": 147,
   "id": "c79f8f0b",
   "metadata": {},
   "outputs": [],
   "source": [
    "mv = MorphVocab()"
   ]
  },
  {
   "cell_type": "code",
   "execution_count": 148,
   "id": "a975d262",
   "metadata": {},
   "outputs": [],
   "source": [
    "ne = NamesExtractor(mv)\n",
    "ae = AddrExtractor(mv)"
   ]
  },
  {
   "cell_type": "code",
   "execution_count": 149,
   "id": "f29aeafb",
   "metadata": {},
   "outputs": [],
   "source": [
    "segmenter = Segmenter()\n",
    "morph_vocab = MorphVocab()"
   ]
  },
  {
   "cell_type": "code",
   "execution_count": 150,
   "id": "d0e14f4a",
   "metadata": {},
   "outputs": [],
   "source": [
    "emb = NewsEmbedding()\n",
    "morph_tagger = NewsMorphTagger(emb)\n",
    "syntax_parser = NewsSyntaxParser(emb)\n",
    "ner_tagger = NewsNERTagger(emb)"
   ]
  },
  {
   "cell_type": "code",
   "execution_count": 151,
   "id": "c2bf2cd1",
   "metadata": {},
   "outputs": [],
   "source": [
    "names_extractor = NamesExtractor(morph_vocab)"
   ]
  },
  {
   "cell_type": "code",
   "execution_count": 152,
   "id": "463ee06a",
   "metadata": {},
   "outputs": [],
   "source": [
    "docs = []\n",
    "\n",
    "for text in sents:\n",
    "    doc = Doc(text)\n",
    "    doc.segment(segmenter)\n",
    "    doc.tag_morph(morph_tagger)\n",
    "    doc.tag_ner(ner_tagger)\n",
    "    docs.append(doc)\n",
    "    for item in doc.spans:\n",
    "        if item.type == \"PER\":\n",
    "            aen.append(item.text)\n",
    "        elif item.type == \"LOC\":\n",
    "            lon.append(item.text)"
   ]
  },
  {
   "cell_type": "markdown",
   "id": "c945addc",
   "metadata": {},
   "source": [
    "Что было до:"
   ]
  },
  {
   "attachments": {
    "%D0%A1%D0%BD%D0%B8%D0%BC%D0%BE%D0%BA%20%D1%8D%D0%BA%D1%80%D0%B0%D0%BD%D0%B0%202021-12-26%20%D0%B2%2022.19.00.png": {
     "image/png": "[encoded data removed]"
    }
   },
   "cell_type": "markdown",
   "id": "9d182399",
   "metadata": {},
   "source": [
    "![%D0%A1%D0%BD%D0%B8%D0%BC%D0%BE%D0%BA%20%D1%8D%D0%BA%D1%80%D0%B0%D0%BD%D0%B0%202021-12-26%20%D0%B2%2022.19.00.png](attachment:%D0%A1%D0%BD%D0%B8%D0%BC%D0%BE%D0%BA%20%D1%8D%D0%BA%D1%80%D0%B0%D0%BD%D0%B0%202021-12-26%20%D0%B2%2022.19.00.png)"
   ]
  },
  {
   "cell_type": "markdown",
   "id": "e4fd80f7",
   "metadata": {},
   "source": [
    "После:"
   ]
  },
  {
   "cell_type": "code",
   "execution_count": 153,
   "id": "2cb49950",
   "metadata": {
    "scrolled": true
   },
   "outputs": [
    {
     "name": "stdout",
     "output_type": "stream",
     "text": [
      "Посол Израиля на Украине Йоэль Лион признался, что пришел в шок, узнав\n",
      "      LOC────    LOC──── PER───────                                   \n",
      " о решении властей Львовской области объявить 2019 год годом лидера \n",
      "                   LOC──────────────                                \n",
      "запрещенной в России Организации украинских националистов (ОУН) \n",
      "              LOC─── ORG─────────────────────────────────────── \n",
      "Степана Бандеры.\n",
      "PER──────────── \n"
     ]
    }
   ],
   "source": [
    "txt = docs[0]\n",
    "txt.ner.print()"
   ]
  },
  {
   "cell_type": "markdown",
   "id": "430b8f4b",
   "metadata": {},
   "source": [
    "# Оценка сложности"
   ]
  },
  {
   "cell_type": "markdown",
   "id": "582c96d6",
   "metadata": {},
   "source": [
    "O(n2) — квадратичная сложность, потому что проходится по всем предложениям в массиве sents, а потом по всем сущностям в spans. "
   ]
  },
  {
   "cell_type": "markdown",
   "id": "e2f998bd",
   "metadata": {},
   "source": [
    "# Как ускорить?"
   ]
  },
  {
   "cell_type": "markdown",
   "id": "f3d047af",
   "metadata": {},
   "source": [
    "Надо избавиться от вложенного цикла.\n",
    "Можно доки занести в отдельный массив и потом пройтись по докам в отдельном цикле. \n",
    "\n",
    "Тогда сложность будет o(n). "
   ]
  }
 ],
 "metadata": {
  "kernelspec": {
   "display_name": "Python 3",
   "language": "python",
   "name": "python3"
  },
  "language_info": {
   "codemirror_mode": {
    "name": "ipython",
    "version": 3
   },
   "file_extension": ".py",
   "mimetype": "text/x-python",
   "name": "python",
   "nbconvert_exporter": "python",
   "pygments_lexer": "ipython3",
   "version": "3.8.8"
  }
 },
 "nbformat": 4,
 "nbformat_minor": 5
}
