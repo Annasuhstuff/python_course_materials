{
 "cells": [
  {
   "cell_type": "markdown",
   "id": "2cf0f55b",
   "metadata": {},
   "source": [
    "# Home tasks\n",
    "# Task #1\n",
    "Write a Python program to find those numbers which are divisible by 7 and multiple of 5, between 1500 and 2700 (both included)."
   ]
  },
  {
   "cell_type": "code",
   "execution_count": 1,
   "id": "6f42b3bd",
   "metadata": {
    "scrolled": true
   },
   "outputs": [
    {
     "name": "stdout",
     "output_type": "stream",
     "text": [
      "1505\n",
      "1540\n",
      "1575\n",
      "1610\n",
      "1645\n",
      "1680\n",
      "1715\n",
      "1750\n",
      "1785\n",
      "1820\n",
      "1855\n",
      "1890\n",
      "1925\n",
      "1960\n",
      "1995\n",
      "2030\n",
      "2065\n",
      "2100\n",
      "2135\n",
      "2170\n",
      "2205\n",
      "2240\n",
      "2275\n",
      "2310\n",
      "2345\n",
      "2380\n",
      "2415\n",
      "2450\n",
      "2485\n",
      "2520\n",
      "2555\n",
      "2590\n",
      "2625\n",
      "2660\n",
      "2695\n"
     ]
    }
   ],
   "source": [
    "n = 1500\n",
    "\n",
    "while n < 2700:\n",
    "    if n % 5 == 0 and n % 7 == 0:\n",
    "        print(n)\n",
    "    n += 1"
   ]
  },
  {
   "cell_type": "markdown",
   "id": "13680856",
   "metadata": {},
   "source": [
    "# Task #2\n",
    "# Write a Python program to construct the following pattern, using a nested for loop."
   ]
  },
  {
   "cell_type": "code",
   "execution_count": 3,
   "id": "9360ba6f",
   "metadata": {},
   "outputs": [],
   "source": [
    "# * \n",
    "# * * \n",
    "# * * * \n",
    "# * * * * \n",
    "# * * * * * \n",
    "# * * * * \n",
    "# * * * \n",
    "# * * \n",
    "# *"
   ]
  },
  {
   "cell_type": "code",
   "execution_count": 4,
   "id": "b2bf8496",
   "metadata": {},
   "outputs": [
    {
     "name": "stdout",
     "output_type": "stream",
     "text": [
      " *\n",
      " * *\n",
      " * * *\n",
      " * * * *\n",
      " * * * * *\n",
      " * * * *\n",
      " * * *\n",
      " * *\n",
      " *\n"
     ]
    }
   ],
   "source": [
    "n = 1\n",
    "\n",
    "while n < 5:\n",
    "    print(' *'* n)\n",
    "    n+=1\n",
    "else:\n",
    "    while n > 0:\n",
    "        print(' *'*n)\n",
    "        n -=1"
   ]
  },
  {
   "cell_type": "markdown",
   "id": "6f547ac2",
   "metadata": {},
   "source": [
    "# Task #3\n",
    "# Write a Python program that prints all the numbers from 0 to 6 except 3 and 6.\n",
    "\n",
    "Note : Use continue statement."
   ]
  },
  {
   "cell_type": "code",
   "execution_count": 5,
   "id": "06c87c5c",
   "metadata": {},
   "outputs": [
    {
     "name": "stdout",
     "output_type": "stream",
     "text": [
      "0\n",
      "1\n",
      "2\n",
      "4\n",
      "5\n"
     ]
    }
   ],
   "source": [
    "i = 0\n",
    "while i <= 6:\n",
    "  if i == 3 or i == 6:\n",
    "    i += 1\n",
    "    continue\n",
    "  print(i)\n",
    "  i += 1"
   ]
  },
  {
   "cell_type": "markdown",
   "id": "f2bae258",
   "metadata": {},
   "source": [
    "# Task #4\n",
    "# Write a Python program to check a triangle is equilateral, isosceles or scalene.\n",
    "\n",
    "Note :\n",
    "\n",
    "An equilateral triangle is a triangle in which all three sides are equal.\n",
    "\n",
    "A scalene triangle is a triangle that has three unequal sides.\n",
    "\n",
    "An isosceles triangle is a triangle with (at least) two equal sides.\n",
    "\n",
    "Expected Output:\n",
    "\n",
    "Input lengths of the triangle sides:\n",
    "    \n",
    "x: 6\n",
    "    \n",
    "y: 8\n",
    "    \n",
    "z: 12\n",
    "    \n",
    "Scalene triangle"
   ]
  },
  {
   "cell_type": "code",
   "execution_count": 6,
   "id": "6c0201fc",
   "metadata": {},
   "outputs": [
    {
     "name": "stdout",
     "output_type": "stream",
     "text": [
      "Введите первое число: 6\n",
      "Введите второе число: 8\n",
      "Введите третье число: 12\n",
      "Это разносторонний треугольник\n"
     ]
    }
   ],
   "source": [
    "a = input ( \"Введите первое число: \" )\n",
    "b = input  ( \"Введите второе число: \" )\n",
    "c = input  ( \"Введите третье число: \" )\n",
    "\n",
    "\n",
    "if a == b and b == c and a == c :\n",
    "    \n",
    "    print(\"Это равносторонний треугольник\")\n",
    "    \n",
    "if a == b or b == c or c == a:\n",
    "    print (\"Это равнобедренный треугольник\")\n",
    "\n",
    "else :\n",
    "    print (\"Это разносторонний треугольник\")"
   ]
  },
  {
   "cell_type": "markdown",
   "id": "526ad655",
   "metadata": {},
   "source": [
    "# Task #5\n",
    "# Write a Python program to get next day of a given date.\n",
    "\n",
    "Expected Output:\n",
    "\n",
    "Input a year: 2016\n",
    "Input a month [1-12]: 08\n",
    "Input a day [1-31]: 23\n",
    "The next date is [yyyy-mm-dd] 2016-8-24"
   ]
  },
  {
   "cell_type": "code",
   "execution_count": 7,
   "id": "4ea91dac",
   "metadata": {},
   "outputs": [
    {
     "name": "stdout",
     "output_type": "stream",
     "text": [
      "Введите год: 2016\n",
      "Введите месяц [1-12]: 08\n",
      "Введите день [1-31]: 23\n",
      "Следующий день это [yyyy-mm-dd] 2016-8-24.\n"
     ]
    }
   ],
   "source": [
    "year = int(input(\"Введите год: \"))\n",
    "\n",
    "if (year % 400 == 0):\n",
    "    leap_year = True\n",
    "elif (year % 100 == 0):\n",
    "    leap_year = False\n",
    "elif (year % 4 == 0):\n",
    "    leap_year = True\n",
    "else:\n",
    "    leap_year = False\n",
    "\n",
    "month = int(input(\"Введите месяц [1-12]: \"))\n",
    "\n",
    "if month in (1, 3, 5, 7, 8, 10, 12):\n",
    "    month_length = 31\n",
    "elif month == 2:\n",
    "    if leap_year:\n",
    "        month_length = 29\n",
    "    else:\n",
    "        month_length = 28\n",
    "else:\n",
    "    month_length = 30\n",
    "\n",
    "day = int(input(\"Введите день [1-31]: \"))\n",
    "\n",
    "if day < month_length:\n",
    "    day += 1\n",
    "else:\n",
    "    day = 1\n",
    "    if month == 12:\n",
    "        month = 1\n",
    "        year += 1\n",
    "    else:\n",
    "        month += 1\n",
    "print(\"Следующий день это [yyyy-mm-dd] %d-%d-%d.\" % (year, month, day))"
   ]
  }
 ],
 "metadata": {
  "kernelspec": {
   "display_name": "Python 3",
   "language": "python",
   "name": "python3"
  },
  "language_info": {
   "codemirror_mode": {
    "name": "ipython",
    "version": 3
   },
   "file_extension": ".py",
   "mimetype": "text/x-python",
   "name": "python",
   "nbconvert_exporter": "python",
   "pygments_lexer": "ipython3",
   "version": "3.8.8"
  }
 },
 "nbformat": 4,
 "nbformat_minor": 5
}
